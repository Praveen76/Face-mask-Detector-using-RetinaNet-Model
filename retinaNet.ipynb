{
 "cells": [
  {
   "cell_type": "code",
   "execution_count": 1,
   "metadata": {},
   "outputs": [
    {
     "name": "stdout",
     "output_type": "stream",
     "text": [
      "C:\\Users\\PraveenKumar\\RetinaNet\n"
     ]
    }
   ],
   "source": [
    "import os\n",
    "print(os.getcwd())\n"
   ]
  },
  {
   "cell_type": "code",
   "execution_count": 2,
   "metadata": {},
   "outputs": [
    {
     "name": "stderr",
     "output_type": "stream",
     "text": [
      "fatal: destination path 'keras-retinanet' already exists and is not an empty directory.\n"
     ]
    }
   ],
   "source": [
    "!git clone https://github.com/fizyr/keras-retinanet.git"
   ]
  },
  {
   "cell_type": "code",
   "execution_count": 3,
   "metadata": {},
   "outputs": [
    {
     "name": "stdout",
     "output_type": "stream",
     "text": [
      "C:\\Users\\PraveenKumar\\RetinaNet\\keras-retinanet\n",
      "Processing c:\\users\\praveenkumar\\retinanet\\keras-retinanet\n",
      "Requirement already satisfied: keras in c:\\users\\praveenkumar\\anaconda3\\lib\\site-packages (from keras-retinanet==0.5.1) (2.3.1)\n",
      "Requirement already satisfied: keras-resnet==0.1.0 in c:\\users\\praveenkumar\\anaconda3\\lib\\site-packages (from keras-retinanet==0.5.1) (0.1.0)\n",
      "Requirement already satisfied: six in c:\\users\\praveenkumar\\anaconda3\\lib\\site-packages (from keras-retinanet==0.5.1) (1.14.0)\n",
      "Requirement already satisfied: scipy in c:\\users\\praveenkumar\\anaconda3\\lib\\site-packages (from keras-retinanet==0.5.1) (1.4.1)\n",
      "Requirement already satisfied: cython in c:\\users\\praveenkumar\\anaconda3\\lib\\site-packages (from keras-retinanet==0.5.1) (0.29.13)\n",
      "Requirement already satisfied: Pillow in c:\\users\\praveenkumar\\anaconda3\\lib\\site-packages (from keras-retinanet==0.5.1) (7.0.0)\n",
      "Requirement already satisfied: opencv-python in c:\\users\\praveenkumar\\anaconda3\\lib\\site-packages (from keras-retinanet==0.5.1) (4.2.0.34)\n",
      "Requirement already satisfied: progressbar2 in c:\\users\\praveenkumar\\anaconda3\\lib\\site-packages (from keras-retinanet==0.5.1) (3.51.3)\n",
      "Requirement already satisfied: keras-applications>=1.0.6 in c:\\users\\praveenkumar\\anaconda3\\lib\\site-packages (from keras->keras-retinanet==0.5.1) (1.0.8)\n",
      "Requirement already satisfied: pyyaml in c:\\users\\praveenkumar\\anaconda3\\lib\\site-packages (from keras->keras-retinanet==0.5.1) (5.3)\n",
      "Requirement already satisfied: h5py in c:\\users\\praveenkumar\\anaconda3\\lib\\site-packages (from keras->keras-retinanet==0.5.1) (2.10.0)\n",
      "Requirement already satisfied: keras-preprocessing>=1.0.5 in c:\\users\\praveenkumar\\anaconda3\\lib\\site-packages (from keras->keras-retinanet==0.5.1) (1.1.0)\n",
      "Requirement already satisfied: numpy>=1.9.1 in c:\\users\\praveenkumar\\anaconda3\\lib\\site-packages (from keras->keras-retinanet==0.5.1) (1.18.1)\n",
      "Requirement already satisfied: python-utils>=2.3.0 in c:\\users\\praveenkumar\\anaconda3\\lib\\site-packages (from progressbar2->keras-retinanet==0.5.1) (2.4.0)\n",
      "Building wheels for collected packages: keras-retinanet\n",
      "  Building wheel for keras-retinanet (setup.py): started\n",
      "  Building wheel for keras-retinanet (setup.py): finished with status 'done'\n",
      "  Created wheel for keras-retinanet: filename=keras_retinanet-0.5.1-cp37-cp37m-win_amd64.whl size=131824 sha256=a68fa8e4394e06ac560035ce91e250ae085727b7ddb5c0d3e38d45dc4465255f\n",
      "  Stored in directory: c:\\users\\praveenkumar\\appdata\\local\\pip\\cache\\wheels\\e5\\47\\b4\\8991cdf5e42d9c0f79ee7f2b5d207614947bbe97a09a936dc0\n",
      "Successfully built keras-retinanet\n",
      "Installing collected packages: keras-retinanet\n",
      "  Attempting uninstall: keras-retinanet\n",
      "    Found existing installation: keras-retinanet 0.5.1\n",
      "    Uninstalling keras-retinanet-0.5.1:\n",
      "      Successfully uninstalled keras-retinanet-0.5.1\n",
      "Successfully installed keras-retinanet-0.5.1\n"
     ]
    }
   ],
   "source": [
    "%cd keras-retinanet/\n",
    "!pip install .\n"
   ]
  },
  {
   "cell_type": "code",
   "execution_count": 17,
   "metadata": {},
   "outputs": [
    {
     "name": "stdout",
     "output_type": "stream",
     "text": [
      "running build_ext\n",
      "skipping 'keras_retinanet/utils\\compute_overlap.c' Cython extension (up-to-date)\n",
      "copying build\\lib.win-amd64-3.7\\keras_retinanet\\utils\\compute_overlap.cp37-win_amd64.pyd -> keras_retinanet\\utils\n"
     ]
    }
   ],
   "source": [
    "!python setup.py build_ext --inplace\n"
   ]
  },
  {
   "cell_type": "code",
   "execution_count": 27,
   "metadata": {},
   "outputs": [],
   "source": [
    "import numpy as np\n",
    "import shutil\n",
    "\n",
    "import os, sys, random\n",
    "import xml.etree.ElementTree as ET\n",
    "import pandas as pd\n",
    "from os import listdir\n",
    "from os.path import isfile, join\n",
    "import matplotlib.pyplot as plt\n",
    "from PIL import Image\n",
    "import requests\n",
    "import urllib\n",
    "from keras_retinanet.utils.visualization import draw_box, draw_caption\n",
    "from keras_retinanet.utils.image import preprocess_image, resize_image\n"
   ]
  },
  {
   "cell_type": "code",
   "execution_count": 2,
   "metadata": {},
   "outputs": [
    {
     "data": {
      "text/plain": [
       "'C:\\\\Users\\\\PraveenKumar\\\\RetinaNet'"
      ]
     },
     "execution_count": 2,
     "metadata": {},
     "output_type": "execute_result"
    }
   ],
   "source": [
    "os.getcwd()"
   ]
  },
  {
   "cell_type": "code",
   "execution_count": 3,
   "metadata": {},
   "outputs": [
    {
     "name": "stdout",
     "output_type": "stream",
     "text": [
      "C:\\Users\\PraveenKumar\\RetinaNet\\keras-retinanet\n"
     ]
    }
   ],
   "source": [
    "%cd keras-retinanet"
   ]
  },
  {
   "cell_type": "code",
   "execution_count": 31,
   "metadata": {},
   "outputs": [],
   "source": [
    "pngPath='C:/Users/PraveenKumar/RetinaNet//Img_data/'\n",
    "annotPath='C:/Users/PraveenKumar/RetinaNet//annotations/'\n",
    "\n",
    "data=pd.DataFrame(columns=['fileName','xmin','ymin','xmax','ymax','class'])\n",
    "\n",
    "\n",
    "os.getcwd()\n",
    "\n",
    "#read All files\n",
    "allfiles = [f for f in listdir(annotPath) if isfile(join(annotPath, f))] "
   ]
  },
  {
   "cell_type": "code",
   "execution_count": 32,
   "metadata": {},
   "outputs": [
    {
     "data": {
      "text/plain": [
       "['Invoice_0.xml']"
      ]
     },
     "execution_count": 32,
     "metadata": {},
     "output_type": "execute_result"
    }
   ],
   "source": [
    "allfiles[0:1]"
   ]
  },
  {
   "cell_type": "code",
   "execution_count": 33,
   "metadata": {},
   "outputs": [],
   "source": [
    "#Read all pdf files in images and then in text and store that in temp folder\n",
    "for file in allfiles:\n",
    "    #print(file)\n",
    "    if (file.split(\".\")[1]=='xml'):\n",
    "        fileName='C:/Users/PraveenKumar/RetinaNet/Img_data/'+file.replace(\".xml\",'.png')\n",
    "        tree = ET.parse(annotPath+file)\n",
    "        root = tree.getroot()\n",
    "        for obj in root.iter('object'):\n",
    "            cls_name = obj.find('name').text\n",
    "            #print(file)\n",
    "            xml_box = obj.find('bndbox')\n",
    "            xmin = xml_box.find('xmin').text\n",
    "            ymin = xml_box.find('ymin').text\n",
    "            xmax = xml_box.find('xmax').text\n",
    "            ymax = xml_box.find('ymax').text\n",
    "            # Append rows in Empty Dataframe by adding dictionaries\n",
    "            data = data.append({'fileName': fileName, 'xmin': xmin, 'ymin':ymin,'xmax':xmax,'ymax':ymax,'class':cls_name}, ignore_index=True)\n",
    "\n",
    "                \n",
    "data.shape  \n",
    "data.to_csv('../data.csv',header=None,index=False)"
   ]
  },
  {
   "cell_type": "code",
   "execution_count": 35,
   "metadata": {},
   "outputs": [
    {
     "data": {
      "text/plain": [
       "'C:\\\\Users\\\\PraveenKumar\\\\RetinaNet\\\\keras-retinanet'"
      ]
     },
     "execution_count": 35,
     "metadata": {},
     "output_type": "execute_result"
    }
   ],
   "source": [
    "os.getcwd()"
   ]
  },
  {
   "cell_type": "code",
   "execution_count": 36,
   "metadata": {},
   "outputs": [
    {
     "name": "stdout",
     "output_type": "stream",
     "text": [
      "['74', '354', '419', '417']\n",
      "['692', '372', '1314', '422']\n",
      "['67', '439', '379', '507']\n",
      "['704', '442', '1654', '502']\n",
      "['74', '354', '419', '417']\n",
      "['692', '372', '1314', '422']\n",
      "['67', '439', '379', '507']\n",
      "['704', '442', '1654', '502']\n",
      "['74', '354', '419', '417']\n",
      "['692', '372', '1314', '422']\n",
      "['67', '439', '379', '507']\n",
      "['704', '442', '1654', '502']\n",
      "['74', '354', '419', '417']\n",
      "['692', '372', '1314', '422']\n",
      "['67', '439', '379', '507']\n",
      "['704', '442', '1654', '502']\n"
     ]
    },
    {
     "data": {
      "image/png": "[encoded data removed]",
      "text/plain": [
       "<Figure size 432x288 with 1 Axes>"
      ]
     },
     "metadata": {
      "needs_background": "light"
     },
     "output_type": "display_data"
    }
   ],
   "source": [
    "def show_image_with_boxes(df):\n",
    "  # pick a random image\n",
    "  filepath = df.sample()['fileName'].values[0]\n",
    "\n",
    "  # get all rows for this image\n",
    "  df2 = df[df['fileName'] == filepath]\n",
    "  im = np.array(Image.open(filepath))\n",
    "\n",
    "  # if there's a PNG it will have alpha channel\n",
    "  im = im[:,:,:3]\n",
    "\n",
    "  for idx, row in df2.iterrows():\n",
    "    box = [\n",
    "      row['xmin'],\n",
    "      row['ymin'],\n",
    "      row['xmax'],\n",
    "      row['ymax'],\n",
    "    ]\n",
    "    print(box)\n",
    "    draw_box(im, box, color=(255, 0, 0))\n",
    "\n",
    "  plt.axis('off')\n",
    "  plt.imshow(im)\n",
    "  plt.show()                  \n",
    "                  \n",
    "                  \n",
    "show_image_with_boxes(data)                  \n",
    "      \n"
   ]
  },
  {
   "cell_type": "code",
   "execution_count": 37,
   "metadata": {},
   "outputs": [],
   "source": [
    "# data['xmin']=data['xmin'].astype(int)\n",
    "# data['ymin']=data['ymin'].astype(int)\n",
    "# data['xmax']=data['xmax'].astype(int)\n",
    "# data['ymax']=data['ymax'].astype(int)"
   ]
  },
  {
   "cell_type": "code",
   "execution_count": 40,
   "metadata": {},
   "outputs": [
    {
     "data": {
      "text/plain": [
       "'C:\\\\Users\\\\PraveenKumar\\\\RetinaNet\\\\keras-retinanet'"
      ]
     },
     "execution_count": 40,
     "metadata": {},
     "output_type": "execute_result"
    }
   ],
   "source": [
    "os.getcwd()"
   ]
  },
  {
   "cell_type": "code",
   "execution_count": 38,
   "metadata": {},
   "outputs": [
    {
     "data": {
      "text/html": [
       "<div>\n",
       "<style scoped>\n",
       "    .dataframe tbody tr th:only-of-type {\n",
       "        vertical-align: middle;\n",
       "    }\n",
       "\n",
       "    .dataframe tbody tr th {\n",
       "        vertical-align: top;\n",
       "    }\n",
       "\n",
       "    .dataframe thead th {\n",
       "        text-align: right;\n",
       "    }\n",
       "</style>\n",
       "<table border=\"1\" class=\"dataframe\">\n",
       "  <thead>\n",
       "    <tr style=\"text-align: right;\">\n",
       "      <th></th>\n",
       "      <th>fileName</th>\n",
       "      <th>xmin</th>\n",
       "      <th>ymin</th>\n",
       "      <th>xmax</th>\n",
       "      <th>ymax</th>\n",
       "      <th>class</th>\n",
       "    </tr>\n",
       "  </thead>\n",
       "  <tbody>\n",
       "    <tr>\n",
       "      <th>0</th>\n",
       "      <td>C:/Users/PraveenKumar/RetinaNet/Img_data/Invoi...</td>\n",
       "      <td>67</td>\n",
       "      <td>364</td>\n",
       "      <td>454</td>\n",
       "      <td>424</td>\n",
       "      <td>Name</td>\n",
       "    </tr>\n",
       "    <tr>\n",
       "      <th>1</th>\n",
       "      <td>C:/Users/PraveenKumar/RetinaNet/Img_data/Invoi...</td>\n",
       "      <td>694</td>\n",
       "      <td>359</td>\n",
       "      <td>1322</td>\n",
       "      <td>427</td>\n",
       "      <td>ccNumber</td>\n",
       "    </tr>\n",
       "    <tr>\n",
       "      <th>2</th>\n",
       "      <td>C:/Users/PraveenKumar/RetinaNet/Img_data/Invoi...</td>\n",
       "      <td>72</td>\n",
       "      <td>449</td>\n",
       "      <td>397</td>\n",
       "      <td>497</td>\n",
       "      <td>DOB</td>\n",
       "    </tr>\n",
       "    <tr>\n",
       "      <th>3</th>\n",
       "      <td>C:/Users/PraveenKumar/RetinaNet/Img_data/Invoi...</td>\n",
       "      <td>699</td>\n",
       "      <td>439</td>\n",
       "      <td>1569</td>\n",
       "      <td>512</td>\n",
       "      <td>Address</td>\n",
       "    </tr>\n",
       "    <tr>\n",
       "      <th>4</th>\n",
       "      <td>C:/Users/PraveenKumar/RetinaNet/Img_data/Invoi...</td>\n",
       "      <td>69</td>\n",
       "      <td>364</td>\n",
       "      <td>444</td>\n",
       "      <td>432</td>\n",
       "      <td>Name</td>\n",
       "    </tr>\n",
       "  </tbody>\n",
       "</table>\n",
       "</div>"
      ],
      "text/plain": [
       "                                            fileName  xmin  ymin  xmax  ymax  \\\n",
       "0  C:/Users/PraveenKumar/RetinaNet/Img_data/Invoi...    67   364   454   424   \n",
       "1  C:/Users/PraveenKumar/RetinaNet/Img_data/Invoi...   694   359  1322   427   \n",
       "2  C:/Users/PraveenKumar/RetinaNet/Img_data/Invoi...    72   449   397   497   \n",
       "3  C:/Users/PraveenKumar/RetinaNet/Img_data/Invoi...   699   439  1569   512   \n",
       "4  C:/Users/PraveenKumar/RetinaNet/Img_data/Invoi...    69   364   444   432   \n",
       "\n",
       "      class  \n",
       "0      Name  \n",
       "1  ccNumber  \n",
       "2       DOB  \n",
       "3   Address  \n",
       "4      Name  "
      ]
     },
     "execution_count": 38,
     "metadata": {},
     "output_type": "execute_result"
    }
   ],
   "source": [
    "data.head()"
   ]
  },
  {
   "cell_type": "code",
   "execution_count": 39,
   "metadata": {},
   "outputs": [],
   "source": [
    "\n",
    "classes = ['Name','ccNumber','DOB','Address']\n",
    "with open('classes.csv', 'w') as f:\n",
    "  for i, class_name in enumerate(classes):\n",
    "    f.write(f'{class_name},{i}\\n')\n",
    "            \n",
    "if not os.path.exists('snapshots'):\n",
    "  os.mkdir('snapshots')                  \n",
    "PRETRAINED_MODEL = 'snapshots/_pretrained_model.h5'"
   ]
  },
  {
   "cell_type": "code",
   "execution_count": 13,
   "metadata": {},
   "outputs": [
    {
     "name": "stdout",
     "output_type": "stream",
     "text": [
      "Downloaded pretrained model to snapshots/_pretrained_model.h5\n"
     ]
    }
   ],
   "source": [
    "URL_MODEL = 'https://github.com/fizyr/keras-retinanet/releases/download/0.5.1/resnet50_coco_best_v2.1.0.h5'\n",
    "urllib.request.urlretrieve(URL_MODEL, PRETRAINED_MODEL)\n",
    "\n",
    "print('Downloaded pretrained model to ' + PRETRAINED_MODEL)          \n"
   ]
  },
  {
   "cell_type": "code",
   "execution_count": 14,
   "metadata": {},
   "outputs": [
    {
     "data": {
      "text/plain": [
       "'C:\\\\Users\\\\PraveenKumar\\\\RetinaNet\\\\keras-retinanet'"
      ]
     },
     "execution_count": 14,
     "metadata": {},
     "output_type": "execute_result"
    }
   ],
   "source": [
    "os.getcwd()"
   ]
  },
  {
   "cell_type": "code",
   "execution_count": 20,
   "metadata": {},
   "outputs": [
    {
     "name": "stderr",
     "output_type": "stream",
     "text": [
      "'keras_retinanet' is not recognized as an internal or external command,\n",
      "operable program or batch file.\n"
     ]
    }
   ],
   "source": [
    "!keras_retinanet/bin/train.py --freeze-backbone \\\n",
    "    --random-transform \\\n",
    "    --weights {PRETRAINED_MODEL} \\\n",
    "    --batch-size 8 \\\n",
    "    --steps 500 \\\n",
    "    --epochs 15 \\\n",
    "    csv data.csv classes.csv"
   ]
  },
  {
   "cell_type": "code",
   "execution_count": 4,
   "metadata": {},
   "outputs": [
    {
     "name": "stdout",
     "output_type": "stream",
     "text": [
      "path: snapshots\\resnet50_csv_02.h5\n"
     ]
    }
   ],
   "source": [
    "from glob import glob\n",
    "model_paths = glob('snapshots/resnet50_csv_*.h5')\n",
    "latest_path = sorted(model_paths)[-1]\n",
    "print(\"path:\", latest_path)\n",
    "\n"
   ]
  },
  {
   "cell_type": "code",
   "execution_count": 6,
   "metadata": {},
   "outputs": [
    {
     "name": "stderr",
     "output_type": "stream",
     "text": [
      "Using TensorFlow backend.\n"
     ]
    },
    {
     "name": "stdout",
     "output_type": "stream",
     "text": [
      "tracking <tf.Variable 'Variable:0' shape=(9, 4) dtype=float32, numpy=\n",
      "array([[-22.627417, -11.313708,  22.627417,  11.313708],\n",
      "       [-28.50876 , -14.25438 ,  28.50876 ,  14.25438 ],\n",
      "       [-35.918785, -17.959393,  35.918785,  17.959393],\n",
      "       [-16.      , -16.      ,  16.      ,  16.      ],\n",
      "       [-20.158737, -20.158737,  20.158737,  20.158737],\n",
      "       [-25.398417, -25.398417,  25.398417,  25.398417],\n",
      "       [-11.313708, -22.627417,  11.313708,  22.627417],\n",
      "       [-14.25438 , -28.50876 ,  14.25438 ,  28.50876 ],\n",
      "       [-17.959393, -35.918785,  17.959393,  35.918785]], dtype=float32)> anchors\n",
      "tracking <tf.Variable 'Variable:0' shape=(9, 4) dtype=float32, numpy=\n",
      "array([[-45.254833, -22.627417,  45.254833,  22.627417],\n",
      "       [-57.01752 , -28.50876 ,  57.01752 ,  28.50876 ],\n",
      "       [-71.83757 , -35.918785,  71.83757 ,  35.918785],\n",
      "       [-32.      , -32.      ,  32.      ,  32.      ],\n",
      "       [-40.317474, -40.317474,  40.317474,  40.317474],\n",
      "       [-50.796833, -50.796833,  50.796833,  50.796833],\n",
      "       [-22.627417, -45.254833,  22.627417,  45.254833],\n",
      "       [-28.50876 , -57.01752 ,  28.50876 ,  57.01752 ],\n",
      "       [-35.918785, -71.83757 ,  35.918785,  71.83757 ]], dtype=float32)> anchors\n",
      "tracking <tf.Variable 'Variable:0' shape=(9, 4) dtype=float32, numpy=\n",
      "array([[ -90.50967 ,  -45.254833,   90.50967 ,   45.254833],\n",
      "       [-114.03504 ,  -57.01752 ,  114.03504 ,   57.01752 ],\n",
      "       [-143.67514 ,  -71.83757 ,  143.67514 ,   71.83757 ],\n",
      "       [ -64.      ,  -64.      ,   64.      ,   64.      ],\n",
      "       [ -80.63495 ,  -80.63495 ,   80.63495 ,   80.63495 ],\n",
      "       [-101.593666, -101.593666,  101.593666,  101.593666],\n",
      "       [ -45.254833,  -90.50967 ,   45.254833,   90.50967 ],\n",
      "       [ -57.01752 , -114.03504 ,   57.01752 ,  114.03504 ],\n",
      "       [ -71.83757 , -143.67514 ,   71.83757 ,  143.67514 ]],\n",
      "      dtype=float32)> anchors\n",
      "tracking <tf.Variable 'Variable:0' shape=(9, 4) dtype=float32, numpy=\n",
      "array([[-181.01933,  -90.50967,  181.01933,   90.50967],\n",
      "       [-228.07008, -114.03504,  228.07008,  114.03504],\n",
      "       [-287.35028, -143.67514,  287.35028,  143.67514],\n",
      "       [-128.     , -128.     ,  128.     ,  128.     ],\n",
      "       [-161.2699 , -161.2699 ,  161.2699 ,  161.2699 ],\n",
      "       [-203.18733, -203.18733,  203.18733,  203.18733],\n",
      "       [ -90.50967, -181.01933,   90.50967,  181.01933],\n",
      "       [-114.03504, -228.07008,  114.03504,  228.07008],\n",
      "       [-143.67514, -287.35028,  143.67514,  287.35028]], dtype=float32)> anchors\n",
      "tracking <tf.Variable 'Variable:0' shape=(9, 4) dtype=float32, numpy=\n",
      "array([[-362.03867, -181.01933,  362.03867,  181.01933],\n",
      "       [-456.14017, -228.07008,  456.14017,  228.07008],\n",
      "       [-574.70056, -287.35028,  574.70056,  287.35028],\n",
      "       [-256.     , -256.     ,  256.     ,  256.     ],\n",
      "       [-322.5398 , -322.5398 ,  322.5398 ,  322.5398 ],\n",
      "       [-406.37466, -406.37466,  406.37466,  406.37466],\n",
      "       [-181.01933, -362.03867,  181.01933,  362.03867],\n",
      "       [-228.07008, -456.14017,  228.07008,  456.14017],\n",
      "       [-287.35028, -574.70056,  287.35028,  574.70056]], dtype=float32)> anchors\n"
     ]
    }
   ],
   "source": [
    "from keras_retinanet import models\n",
    "\n",
    "model = models.load_model(latest_path, backbone_name='resnet50')\n",
    "model = models.convert_model(model)\n",
    "\n",
    "label_map = {}\n",
    "for line in open('classes.csv'):\n",
    "  row = line.rstrip().split(',')\n",
    "  label_map[int(row[1])] = row[0]"
   ]
  },
  {
   "cell_type": "code",
   "execution_count": 38,
   "metadata": {},
   "outputs": [],
   "source": [
    "def show_image_with_predictions(df, threshold=0.6):\n",
    "  # choose a random image\n",
    "  row = df.sample()\n",
    "  filepath = row['fileName'].values[0]\n",
    "  print(\"filepath:\", filepath)\n",
    "\n",
    "  # get all rows for this image\n",
    "  df2 = df[df['fileName'] == filepath]\n",
    "  im = np.array(Image.open(filepath))\n",
    "  print(\"im.shape:\", im.shape)\n",
    "\n",
    "  # if there's a PNG it will have alpha channel\n",
    "  im = im[:,:,:3]\n",
    "\n",
    "  # plot true boxes\n",
    "  for idx, row in df2.iterrows():\n",
    "    box = [\n",
    "      row['xmin'],\n",
    "      row['ymin'],\n",
    "      row['xmax'],\n",
    "      row['ymax'],\n",
    "    ]\n",
    "    print(box)\n",
    "    draw_box(im, box, color=(255, 0, 0))\n",
    "  \n",
    "  ### plot predictions ###\n",
    "\n",
    "  # get predictions\n",
    "  imp = preprocess_image(im)\n",
    "  imp, scale = resize_image(im)\n",
    "\n",
    "  boxes, scores, labels = model.predict_on_batch(\n",
    "    np.expand_dims(imp, axis=0)\n",
    "  )\n",
    "\n",
    "  # standardize box coordinates\n",
    "  boxes /= scale\n",
    "\n",
    "  # loop through each prediction for the input image\n",
    "  for box, score, label in zip(boxes[0], scores[0], labels[0]):\n",
    "    # scores are sorted so we can quit as soon\n",
    "    # as we see a score below threshold\n",
    "    if score < threshold:\n",
    "      break\n",
    "\n",
    "    box = box.astype(np.int32)\n",
    "    color = label_color(label)\n",
    "    draw_box(im, box, color=color)\n",
    "\n",
    "    class_name = label_map[label]\n",
    "    caption = f\"{class_name} {score:.3f}\"\n",
    "    draw_caption(im, box, caption)\n",
    "\n",
    "  plt.axis('off')\n",
    "  plt.imshow(im)\n",
    "  plt.show()\n"
   ]
  },
  {
   "cell_type": "code",
   "execution_count": 39,
   "metadata": {},
   "outputs": [],
   "source": [
    "plt.rcParams['figure.figsize'] = [20, 10]"
   ]
  },
  {
   "cell_type": "code",
   "execution_count": 43,
   "metadata": {},
   "outputs": [
    {
     "name": "stdout",
     "output_type": "stream",
     "text": [
      "filepath: C:/Users/PraveenKumar/RetinaNet/Img_data/Invoice_52.png\n",
      "im.shape: (2339, 1654, 3)\n",
      "['74', '370', '361', '419']\n",
      "['706', '359', '1280', '420']\n",
      "['695', '440', '1351', '525']\n",
      "['53', '446', '374', '496']\n"
     ]
    },
    {
     "data": {
      "image/png": "[encoded data removed]",
      "text/plain": [
       "<Figure size 1440x720 with 1 Axes>"
      ]
     },
     "metadata": {
      "needs_background": "light"
     },
     "output_type": "display_data"
    }
   ],
   "source": [
    "show_image_with_predictions(data, threshold=0)"
   ]
  },
  {
   "cell_type": "code",
   "execution_count": null,
   "metadata": {},
   "outputs": [],
   "source": []
  }
 ],
 "metadata": {
  "kernelspec": {
   "display_name": "Python 3",
   "language": "python",
   "name": "python3"
  },
  "language_info": {
   "codemirror_mode": {
    "name": "ipython",
    "version": 3
   },
   "file_extension": ".py",
   "mimetype": "text/x-python",
   "name": "python",
   "nbconvert_exporter": "python",
   "pygments_lexer": "ipython3",
   "version": "3.7.6"
  }
 },
 "nbformat": 4,
 "nbformat_minor": 4
}
