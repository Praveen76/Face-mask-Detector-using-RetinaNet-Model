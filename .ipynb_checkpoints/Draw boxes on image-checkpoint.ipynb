version https://git-lfs.github.com/spec/v1
oid sha256:d64a9a0473d37b121a820315912e8d5df368bfcd7ba88127a66dc1759a4e8d15
size 937897
